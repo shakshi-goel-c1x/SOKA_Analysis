{
 "cells": [
  {
   "cell_type": "code",
   "execution_count": 2,
   "metadata": {},
   "outputs": [],
   "source": [
    "# importing the packages\n",
    "%matplotlib inline      \n",
    "import matplotlib.pyplot as plt\n",
    "from matplotlib.pyplot import figure\n",
    "import pandas as pd\n",
    "import psycopg2\n",
    "import sqlalchemy\n",
    "from sqlalchemy import create_engine"
   ]
  },
  {
   "cell_type": "code",
   "execution_count": 3,
   "metadata": {},
   "outputs": [
    {
     "name": "stdout",
     "output_type": "stream",
     "text": [
      "Connection established\n"
     ]
    }
   ],
   "source": [
    "try:\n",
    "    connection = psycopg2.connect(user = \"spyfu\",\n",
    "                                  password = \"SpyfuU$3r\",\n",
    "                                  host = \"18.219.13.131\",\n",
    "                                  port = \"5432\",\n",
    "                                  database = \"spyfu\")\n",
    "    cursor = connection.cursor()\n",
    "except (Exception, psycopg2.Error) as error :\n",
    "    print (\"Error while connecting to PostgreSQL \", error)\n",
    "else:\n",
    "    print(\"Connection established\")"
   ]
  },
  {
   "cell_type": "code",
   "execution_count": 4,
   "metadata": {},
   "outputs": [
    {
     "name": "stdout",
     "output_type": "stream",
     "text": [
      "158015\n"
     ]
    }
   ],
   "source": [
    "cursor.execute(\"select uuid, mcid, count(*) as count from click_agg_poc where uuid!='undefined' GROUP BY uuid, mcid order by uuid, count DESC\")\n",
    "res = cursor.fetchall()\n",
    "print(len(res))"
   ]
  },
  {
   "cell_type": "code",
   "execution_count": 5,
   "metadata": {},
   "outputs": [
    {
     "data": {
      "text/html": [
       "<div>\n",
       "<style scoped>\n",
       "    .dataframe tbody tr th:only-of-type {\n",
       "        vertical-align: middle;\n",
       "    }\n",
       "\n",
       "    .dataframe tbody tr th {\n",
       "        vertical-align: top;\n",
       "    }\n",
       "\n",
       "    .dataframe thead th {\n",
       "        text-align: right;\n",
       "    }\n",
       "</style>\n",
       "<table border=\"1\" class=\"dataframe\">\n",
       "  <thead>\n",
       "    <tr style=\"text-align: right;\">\n",
       "      <th></th>\n",
       "      <th>UUID</th>\n",
       "      <th>MCID</th>\n",
       "      <th>Count</th>\n",
       "    </tr>\n",
       "  </thead>\n",
       "  <tbody>\n",
       "    <tr>\n",
       "      <th>0</th>\n",
       "      <td>00014d2471b8a6d4</td>\n",
       "      <td>368</td>\n",
       "      <td>1</td>\n",
       "    </tr>\n",
       "    <tr>\n",
       "      <th>1</th>\n",
       "      <td>00022a4a1d61367d</td>\n",
       "      <td>32644</td>\n",
       "      <td>1</td>\n",
       "    </tr>\n",
       "    <tr>\n",
       "      <th>2</th>\n",
       "      <td>0002b152d513495e</td>\n",
       "      <td>633</td>\n",
       "      <td>9</td>\n",
       "    </tr>\n",
       "    <tr>\n",
       "      <th>3</th>\n",
       "      <td>00033b01e49f7f3a</td>\n",
       "      <td>89</td>\n",
       "      <td>1</td>\n",
       "    </tr>\n",
       "    <tr>\n",
       "      <th>4</th>\n",
       "      <td>0003d8b9b67dc902</td>\n",
       "      <td>87</td>\n",
       "      <td>5</td>\n",
       "    </tr>\n",
       "    <tr>\n",
       "      <th>5</th>\n",
       "      <td>00055FD181EF44208FCB6C2ECDEAEC84</td>\n",
       "      <td>32644</td>\n",
       "      <td>1</td>\n",
       "    </tr>\n",
       "    <tr>\n",
       "      <th>6</th>\n",
       "      <td>00059604b0412daa</td>\n",
       "      <td>282</td>\n",
       "      <td>1</td>\n",
       "    </tr>\n",
       "    <tr>\n",
       "      <th>7</th>\n",
       "      <td>00065404E3634A29B59B57CD8F8349A0</td>\n",
       "      <td>337</td>\n",
       "      <td>1</td>\n",
       "    </tr>\n",
       "    <tr>\n",
       "      <th>8</th>\n",
       "      <td>0006ea34ea6d3a96</td>\n",
       "      <td>87</td>\n",
       "      <td>1</td>\n",
       "    </tr>\n",
       "    <tr>\n",
       "      <th>9</th>\n",
       "      <td>0008c917b7875b94</td>\n",
       "      <td>87</td>\n",
       "      <td>2</td>\n",
       "    </tr>\n",
       "  </tbody>\n",
       "</table>\n",
       "</div>"
      ],
      "text/plain": [
       "                               UUID   MCID  Count\n",
       "0                  00014d2471b8a6d4    368      1\n",
       "1                  00022a4a1d61367d  32644      1\n",
       "2                  0002b152d513495e    633      9\n",
       "3                  00033b01e49f7f3a     89      1\n",
       "4                  0003d8b9b67dc902     87      5\n",
       "5  00055FD181EF44208FCB6C2ECDEAEC84  32644      1\n",
       "6                  00059604b0412daa    282      1\n",
       "7  00065404E3634A29B59B57CD8F8349A0    337      1\n",
       "8                  0006ea34ea6d3a96     87      1\n",
       "9                  0008c917b7875b94     87      2"
      ]
     },
     "execution_count": 5,
     "metadata": {},
     "output_type": "execute_result"
    }
   ],
   "source": [
    "res = pd.DataFrame(res)\n",
    "res.columns = ['UUID','MCID','Count']\n",
    "res.head(10)"
   ]
  },
  {
   "cell_type": "code",
   "execution_count": 6,
   "metadata": {},
   "outputs": [
    {
     "data": {
      "text/html": [
       "<div>\n",
       "<style scoped>\n",
       "    .dataframe tbody tr th:only-of-type {\n",
       "        vertical-align: middle;\n",
       "    }\n",
       "\n",
       "    .dataframe tbody tr th {\n",
       "        vertical-align: top;\n",
       "    }\n",
       "\n",
       "    .dataframe thead th {\n",
       "        text-align: right;\n",
       "    }\n",
       "</style>\n",
       "<table border=\"1\" class=\"dataframe\">\n",
       "  <thead>\n",
       "    <tr style=\"text-align: right;\">\n",
       "      <th></th>\n",
       "      <th>UUID</th>\n",
       "      <th>MCID</th>\n",
       "      <th>Count</th>\n",
       "    </tr>\n",
       "  </thead>\n",
       "  <tbody>\n",
       "    <tr>\n",
       "      <th>0</th>\n",
       "      <td>00014d2471b8a6d4</td>\n",
       "      <td>368</td>\n",
       "      <td>1</td>\n",
       "    </tr>\n",
       "    <tr>\n",
       "      <th>1</th>\n",
       "      <td>00022a4a1d61367d</td>\n",
       "      <td>32644</td>\n",
       "      <td>1</td>\n",
       "    </tr>\n",
       "    <tr>\n",
       "      <th>2</th>\n",
       "      <td>0002b152d513495e</td>\n",
       "      <td>633</td>\n",
       "      <td>9</td>\n",
       "    </tr>\n",
       "    <tr>\n",
       "      <th>3</th>\n",
       "      <td>00033b01e49f7f3a</td>\n",
       "      <td>89</td>\n",
       "      <td>1</td>\n",
       "    </tr>\n",
       "    <tr>\n",
       "      <th>4</th>\n",
       "      <td>0003d8b9b67dc902</td>\n",
       "      <td>87</td>\n",
       "      <td>5</td>\n",
       "    </tr>\n",
       "  </tbody>\n",
       "</table>\n",
       "</div>"
      ],
      "text/plain": [
       "               UUID   MCID  Count\n",
       "0  00014d2471b8a6d4    368      1\n",
       "1  00022a4a1d61367d  32644      1\n",
       "2  0002b152d513495e    633      9\n",
       "3  00033b01e49f7f3a     89      1\n",
       "4  0003d8b9b67dc902     87      5"
      ]
     },
     "execution_count": 6,
     "metadata": {},
     "output_type": "execute_result"
    }
   ],
   "source": [
    "res.head()"
   ]
  },
  {
   "cell_type": "code",
   "execution_count": 7,
   "metadata": {
    "scrolled": true
   },
   "outputs": [
    {
     "data": {
      "text/html": [
       "<div>\n",
       "<style scoped>\n",
       "    .dataframe tbody tr th:only-of-type {\n",
       "        vertical-align: middle;\n",
       "    }\n",
       "\n",
       "    .dataframe tbody tr th {\n",
       "        vertical-align: top;\n",
       "    }\n",
       "\n",
       "    .dataframe thead th {\n",
       "        text-align: right;\n",
       "    }\n",
       "</style>\n",
       "<table border=\"1\" class=\"dataframe\">\n",
       "  <thead>\n",
       "    <tr style=\"text-align: right;\">\n",
       "      <th></th>\n",
       "      <th>UUID</th>\n",
       "      <th>MCID</th>\n",
       "      <th>Count</th>\n",
       "    </tr>\n",
       "  </thead>\n",
       "  <tbody>\n",
       "    <tr>\n",
       "      <th>13759</th>\n",
       "      <td>1CFB5C1DCD9D49A6B10ACB67B686757B</td>\n",
       "      <td>40442</td>\n",
       "      <td>16</td>\n",
       "    </tr>\n",
       "    <tr>\n",
       "      <th>13760</th>\n",
       "      <td>1CFB5C1DCD9D49A6B10ACB67B686757B</td>\n",
       "      <td>89</td>\n",
       "      <td>14</td>\n",
       "    </tr>\n",
       "    <tr>\n",
       "      <th>13761</th>\n",
       "      <td>1CFB5C1DCD9D49A6B10ACB67B686757B</td>\n",
       "      <td>337</td>\n",
       "      <td>12</td>\n",
       "    </tr>\n",
       "    <tr>\n",
       "      <th>13762</th>\n",
       "      <td>1CFB5C1DCD9D49A6B10ACB67B686757B</td>\n",
       "      <td>480</td>\n",
       "      <td>8</td>\n",
       "    </tr>\n",
       "    <tr>\n",
       "      <th>13763</th>\n",
       "      <td>1CFB5C1DCD9D49A6B10ACB67B686757B</td>\n",
       "      <td>282</td>\n",
       "      <td>5</td>\n",
       "    </tr>\n",
       "    <tr>\n",
       "      <th>13764</th>\n",
       "      <td>1CFB5C1DCD9D49A6B10ACB67B686757B</td>\n",
       "      <td>368</td>\n",
       "      <td>5</td>\n",
       "    </tr>\n",
       "    <tr>\n",
       "      <th>13765</th>\n",
       "      <td>1CFB5C1DCD9D49A6B10ACB67B686757B</td>\n",
       "      <td>87</td>\n",
       "      <td>4</td>\n",
       "    </tr>\n",
       "    <tr>\n",
       "      <th>13766</th>\n",
       "      <td>1CFB5C1DCD9D49A6B10ACB67B686757B</td>\n",
       "      <td>633</td>\n",
       "      <td>4</td>\n",
       "    </tr>\n",
       "    <tr>\n",
       "      <th>13767</th>\n",
       "      <td>1CFB5C1DCD9D49A6B10ACB67B686757B</td>\n",
       "      <td>5926</td>\n",
       "      <td>4</td>\n",
       "    </tr>\n",
       "    <tr>\n",
       "      <th>13768</th>\n",
       "      <td>1CFB5C1DCD9D49A6B10ACB67B686757B</td>\n",
       "      <td>85</td>\n",
       "      <td>2</td>\n",
       "    </tr>\n",
       "    <tr>\n",
       "      <th>13769</th>\n",
       "      <td>1CFB5C1DCD9D49A6B10ACB67B686757B</td>\n",
       "      <td>628</td>\n",
       "      <td>1</td>\n",
       "    </tr>\n",
       "    <tr>\n",
       "      <th>13770</th>\n",
       "      <td>1CFB5C1DCD9D49A6B10ACB67B686757B</td>\n",
       "      <td>32644</td>\n",
       "      <td>1</td>\n",
       "    </tr>\n",
       "  </tbody>\n",
       "</table>\n",
       "</div>"
      ],
      "text/plain": [
       "                                   UUID   MCID  Count\n",
       "13759  1CFB5C1DCD9D49A6B10ACB67B686757B  40442     16\n",
       "13760  1CFB5C1DCD9D49A6B10ACB67B686757B     89     14\n",
       "13761  1CFB5C1DCD9D49A6B10ACB67B686757B    337     12\n",
       "13762  1CFB5C1DCD9D49A6B10ACB67B686757B    480      8\n",
       "13763  1CFB5C1DCD9D49A6B10ACB67B686757B    282      5\n",
       "13764  1CFB5C1DCD9D49A6B10ACB67B686757B    368      5\n",
       "13765  1CFB5C1DCD9D49A6B10ACB67B686757B     87      4\n",
       "13766  1CFB5C1DCD9D49A6B10ACB67B686757B    633      4\n",
       "13767  1CFB5C1DCD9D49A6B10ACB67B686757B   5926      4\n",
       "13768  1CFB5C1DCD9D49A6B10ACB67B686757B     85      2\n",
       "13769  1CFB5C1DCD9D49A6B10ACB67B686757B    628      1\n",
       "13770  1CFB5C1DCD9D49A6B10ACB67B686757B  32644      1"
      ]
     },
     "execution_count": 7,
     "metadata": {},
     "output_type": "execute_result"
    }
   ],
   "source": [
    "res[res['UUID']=='1CFB5C1DCD9D49A6B10ACB67B686757B']"
   ]
  },
  {
   "cell_type": "code",
   "execution_count": 8,
   "metadata": {
    "scrolled": true
   },
   "outputs": [
    {
     "data": {
      "text/plain": [
       "1CFB5C1DCD9D49A6B10ACB67B686757B    12\n",
       "b89ad773d08b68ea                     8\n",
       "25d606c002f488b3                     7\n",
       "e8a9a406905e5972                     7\n",
       "87bdce40e532280d                     6\n",
       "3f4e37b08f6a2589                     6\n",
       "22dff8083b7eb42b                     6\n",
       "7ea19cc1b3983859                     6\n",
       "2fa36dd521b54788                     6\n",
       "421973975339222e                     6\n",
       "daaac41af0032781                     6\n",
       "13279265311a2ba7                     6\n",
       "0c24cdeeaffc5378                     6\n",
       "9427ee08e1f0aef8                     6\n",
       "fe10365ec99b8aeb                     5\n",
       "a0fbef64886e9714                     5\n",
       "5e48888a1777b2f8                     5\n",
       "e770dafae243ac6                      5\n",
       "a00a51a392a6e945                     5\n",
       "14ab02c9ccbc2d2d                     5\n",
       "a6fdec4308c2f117                     5\n",
       "29012789afe0813f                     5\n",
       "8ed93dd7dafdcd61                     5\n",
       "89c2680b5230d5ef                     5\n",
       "8ff237d939d8523a                     5\n",
       "7ccefd80a0cdbe95                     5\n",
       "61d0c6697e0f7df9                     5\n",
       "c5c0e4ddcac51bf1                     5\n",
       "024a390885b5f6f6                     5\n",
       "00ee38d97d97afde                     5\n",
       "                                    ..\n",
       "43f39f44c7158921                     1\n",
       "3c547a91b0d686a5                     1\n",
       "a696887e15e4a653                     1\n",
       "67545B709DAD4038B834A9982C984033     1\n",
       "77938edfdb15008d                     1\n",
       "c84359efe77d10ab                     1\n",
       "7b5e289bc5e85f25                     1\n",
       "be876d583d98afad                     1\n",
       "0f8aa98bcbb3f03b                     1\n",
       "f473bf6b81df3664                     1\n",
       "c5f41cad66ddd11c                     1\n",
       "111ae5d20389f430                     1\n",
       "5adc443e84610eb4                     1\n",
       "74c65d810612425e                     1\n",
       "e02a8fd3fff07acd                     1\n",
       "c318e59b5696c97f                     1\n",
       "c860bd5c5194e168                     1\n",
       "0731fb9e788c652b                     1\n",
       "be531199c0f98869                     1\n",
       "f0ed062d3b10b532                     1\n",
       "3fe38544ccc588ff                     1\n",
       "e8514db34c72654f                     1\n",
       "5d8f3c30b9dd1c0                      1\n",
       "49944e28fdd63d7c                     1\n",
       "9284821173a8412d                     1\n",
       "f215c80e63767de0                     1\n",
       "5aa59f74a56cd975                     1\n",
       "a7d14bae94c1f6a5                     1\n",
       "389730b02e3bcbc0                     1\n",
       "3856255b07791453                     1\n",
       "Name: UUID, Length: 142474, dtype: int64"
      ]
     },
     "execution_count": 8,
     "metadata": {},
     "output_type": "execute_result"
    }
   ],
   "source": [
    "res['UUID'].value_counts()"
   ]
  },
  {
   "cell_type": "code",
   "execution_count": 9,
   "metadata": {},
   "outputs": [
    {
     "data": {
      "text/html": [
       "<div>\n",
       "<style scoped>\n",
       "    .dataframe tbody tr th:only-of-type {\n",
       "        vertical-align: middle;\n",
       "    }\n",
       "\n",
       "    .dataframe tbody tr th {\n",
       "        vertical-align: top;\n",
       "    }\n",
       "\n",
       "    .dataframe thead th {\n",
       "        text-align: right;\n",
       "    }\n",
       "</style>\n",
       "<table border=\"1\" class=\"dataframe\">\n",
       "  <thead>\n",
       "    <tr style=\"text-align: right;\">\n",
       "      <th></th>\n",
       "      <th>MCID</th>\n",
       "      <th>Name</th>\n",
       "    </tr>\n",
       "  </thead>\n",
       "  <tbody>\n",
       "    <tr>\n",
       "      <th>0</th>\n",
       "      <td>-1</td>\n",
       "      <td>Offers Page</td>\n",
       "    </tr>\n",
       "    <tr>\n",
       "      <th>1</th>\n",
       "      <td>0</td>\n",
       "      <td>Home Page</td>\n",
       "    </tr>\n",
       "    <tr>\n",
       "      <th>2</th>\n",
       "      <td>85</td>\n",
       "      <td>Computers</td>\n",
       "    </tr>\n",
       "    <tr>\n",
       "      <th>3</th>\n",
       "      <td>86</td>\n",
       "      <td>Kitchen Maha Mela</td>\n",
       "    </tr>\n",
       "    <tr>\n",
       "      <th>4</th>\n",
       "      <td>87</td>\n",
       "      <td>Fashion</td>\n",
       "    </tr>\n",
       "    <tr>\n",
       "      <th>5</th>\n",
       "      <td>89</td>\n",
       "      <td>Footwear</td>\n",
       "    </tr>\n",
       "    <tr>\n",
       "      <th>6</th>\n",
       "      <td>90</td>\n",
       "      <td>Women's Clothing</td>\n",
       "    </tr>\n",
       "    <tr>\n",
       "      <th>7</th>\n",
       "      <td>92</td>\n",
       "      <td>Hair Dryers</td>\n",
       "    </tr>\n",
       "    <tr>\n",
       "      <th>8</th>\n",
       "      <td>93</td>\n",
       "      <td>Books &amp; Media</td>\n",
       "    </tr>\n",
       "    <tr>\n",
       "      <th>9</th>\n",
       "      <td>95</td>\n",
       "      <td>Gift Hampers</td>\n",
       "    </tr>\n",
       "  </tbody>\n",
       "</table>\n",
       "</div>"
      ],
      "text/plain": [
       "   MCID               Name\n",
       "0    -1        Offers Page\n",
       "1     0          Home Page\n",
       "2    85          Computers\n",
       "3    86  Kitchen Maha Mela\n",
       "4    87            Fashion\n",
       "5    89           Footwear\n",
       "6    90   Women's Clothing\n",
       "7    92        Hair Dryers\n",
       "8    93      Books & Media\n",
       "9    95       Gift Hampers"
      ]
     },
     "execution_count": 9,
     "metadata": {},
     "output_type": "execute_result"
    }
   ],
   "source": [
    "cat = pd.read_csv(\"category_soka.csv\")\n",
    "cat = cat[['id','name']]\n",
    "cat = pd.DataFrame(cat)\n",
    "cat.columns = ['MCID','Name']\n",
    "cat.head(10)"
   ]
  },
  {
   "cell_type": "code",
   "execution_count": 10,
   "metadata": {},
   "outputs": [],
   "source": [
    "result = pd.merge(res, cat, on='MCID')\n",
    "result = pd.DataFrame(result)"
   ]
  },
  {
   "cell_type": "code",
   "execution_count": 11,
   "metadata": {},
   "outputs": [
    {
     "data": {
      "text/html": [
       "<div>\n",
       "<style scoped>\n",
       "    .dataframe tbody tr th:only-of-type {\n",
       "        vertical-align: middle;\n",
       "    }\n",
       "\n",
       "    .dataframe tbody tr th {\n",
       "        vertical-align: top;\n",
       "    }\n",
       "\n",
       "    .dataframe thead th {\n",
       "        text-align: right;\n",
       "    }\n",
       "</style>\n",
       "<table border=\"1\" class=\"dataframe\">\n",
       "  <thead>\n",
       "    <tr style=\"text-align: right;\">\n",
       "      <th></th>\n",
       "      <th>UUID</th>\n",
       "      <th>MCID</th>\n",
       "      <th>Count</th>\n",
       "      <th>Name</th>\n",
       "    </tr>\n",
       "  </thead>\n",
       "  <tbody>\n",
       "    <tr>\n",
       "      <th>0</th>\n",
       "      <td>00014d2471b8a6d4</td>\n",
       "      <td>368</td>\n",
       "      <td>1</td>\n",
       "      <td>Appliances</td>\n",
       "    </tr>\n",
       "    <tr>\n",
       "      <th>1</th>\n",
       "      <td>007cd84350f0ce9d</td>\n",
       "      <td>368</td>\n",
       "      <td>1</td>\n",
       "      <td>Appliances</td>\n",
       "    </tr>\n",
       "    <tr>\n",
       "      <th>2</th>\n",
       "      <td>007D3DD33E524AA4A8FA62E2C86CDFE9</td>\n",
       "      <td>368</td>\n",
       "      <td>2</td>\n",
       "      <td>Appliances</td>\n",
       "    </tr>\n",
       "    <tr>\n",
       "      <th>3</th>\n",
       "      <td>008ed48a15715b93</td>\n",
       "      <td>368</td>\n",
       "      <td>1</td>\n",
       "      <td>Appliances</td>\n",
       "    </tr>\n",
       "    <tr>\n",
       "      <th>4</th>\n",
       "      <td>00b1d68f1cb090cf</td>\n",
       "      <td>368</td>\n",
       "      <td>1</td>\n",
       "      <td>Appliances</td>\n",
       "    </tr>\n",
       "    <tr>\n",
       "      <th>5</th>\n",
       "      <td>01406bc285abb4c3</td>\n",
       "      <td>368</td>\n",
       "      <td>1</td>\n",
       "      <td>Appliances</td>\n",
       "    </tr>\n",
       "    <tr>\n",
       "      <th>6</th>\n",
       "      <td>0147b8f53a902060</td>\n",
       "      <td>368</td>\n",
       "      <td>1</td>\n",
       "      <td>Appliances</td>\n",
       "    </tr>\n",
       "    <tr>\n",
       "      <th>7</th>\n",
       "      <td>016898623ce7b967</td>\n",
       "      <td>368</td>\n",
       "      <td>1</td>\n",
       "      <td>Appliances</td>\n",
       "    </tr>\n",
       "    <tr>\n",
       "      <th>8</th>\n",
       "      <td>016e959e17a0015c</td>\n",
       "      <td>368</td>\n",
       "      <td>1</td>\n",
       "      <td>Appliances</td>\n",
       "    </tr>\n",
       "    <tr>\n",
       "      <th>9</th>\n",
       "      <td>01c9318bbc801a87</td>\n",
       "      <td>368</td>\n",
       "      <td>1</td>\n",
       "      <td>Appliances</td>\n",
       "    </tr>\n",
       "  </tbody>\n",
       "</table>\n",
       "</div>"
      ],
      "text/plain": [
       "                               UUID  MCID  Count        Name\n",
       "0                  00014d2471b8a6d4   368      1  Appliances\n",
       "1                  007cd84350f0ce9d   368      1  Appliances\n",
       "2  007D3DD33E524AA4A8FA62E2C86CDFE9   368      2  Appliances\n",
       "3                  008ed48a15715b93   368      1  Appliances\n",
       "4                  00b1d68f1cb090cf   368      1  Appliances\n",
       "5                  01406bc285abb4c3   368      1  Appliances\n",
       "6                  0147b8f53a902060   368      1  Appliances\n",
       "7                  016898623ce7b967   368      1  Appliances\n",
       "8                  016e959e17a0015c   368      1  Appliances\n",
       "9                  01c9318bbc801a87   368      1  Appliances"
      ]
     },
     "execution_count": 11,
     "metadata": {},
     "output_type": "execute_result"
    }
   ],
   "source": [
    "result.head(10)"
   ]
  },
  {
   "cell_type": "code",
   "execution_count": 12,
   "metadata": {},
   "outputs": [
    {
     "data": {
      "text/plain": [
       "(158015, 4)"
      ]
     },
     "execution_count": 12,
     "metadata": {},
     "output_type": "execute_result"
    }
   ],
   "source": [
    "result.shape"
   ]
  },
  {
   "cell_type": "code",
   "execution_count": 13,
   "metadata": {},
   "outputs": [
    {
     "name": "stdout",
     "output_type": "stream",
     "text": [
      "<pandas.core.groupby.groupby.DataFrameGroupBy object at 0x000001DA21889B38>\n"
     ]
    }
   ],
   "source": [
    "new = result.groupby(result.UUID)\n",
    "print(new)"
   ]
  },
  {
   "cell_type": "code",
   "execution_count": 14,
   "metadata": {
    "scrolled": true
   },
   "outputs": [
    {
     "name": "stdout",
     "output_type": "stream",
     "text": [
      "                                  Count\n",
      "UUID                                   \n",
      "00014d2471b8a6d4                      1\n",
      "00022a4a1d61367d                      1\n",
      "0002b152d513495e                      9\n",
      "00033b01e49f7f3a                      1\n",
      "0003d8b9b67dc902                      5\n",
      "00055FD181EF44208FCB6C2ECDEAEC84      1\n",
      "00059604b0412daa                      1\n",
      "00065404E3634A29B59B57CD8F8349A0      1\n",
      "0006ea34ea6d3a96                      1\n",
      "0008c917b7875b94                      2\n",
      "0009dfa36b594ca7                      1\n",
      "000A96EBA60F49A7981EDF3732E37B6C      1\n",
      "000ACA38155E4E5ABEBFD9511D1A10AB      1\n",
      "000C741CC20341929A0AA150AF51327D      1\n",
      "000C96A9545B4226B8C1A460B9FF12DF      1\n",
      "000DC9D7B05B4CF3AB93D7F1CA5E15BF      1\n",
      "000aee493126aa46                      1\n",
      "000b22ea82261754                      1\n",
      "000b60047b3d7811                      1\n",
      "000ba22d0a534177                      1\n",
      "000bf372c0a3234e                      1\n",
      "000cfeb09958b1ae                      3\n",
      "000d2b0d80640b4e                      1\n",
      "000db919bf2c8fe5                      1\n",
      "000dbad372e6807d                      2\n",
      "000f015a33d993b0                      1\n",
      "000fe7fe7667cbee                      1\n",
      "00102010D8E94F7CB7344E9C59D86564      1\n",
      "0010886E10CD48579C38A5FD1C94496D      1\n",
      "0011277ea1fe1536                      1\n",
      "...                                 ...\n",
      "fff2537b5b861847                      1\n",
      "fff2e7ae293c5fa1                      1\n",
      "fff305d1894bc013                      1\n",
      "fff3167c83e5d9c5                      1\n",
      "fff386726f251782                      1\n",
      "fff3cd9c70c442b                       1\n",
      "fff411ae811e32dc                      1\n",
      "fff4da77e7afd732                      1\n",
      "fff5c7c52745ce76                      1\n",
      "fff61eb8b5b9f6af                      1\n",
      "fff6cfbb15d6c7bc                      1\n",
      "fff6f796b54f4e98                      1\n",
      "fff761ebc7348512                      1\n",
      "fff77927f1831e60                      1\n",
      "fff7cb1a3695e6d3                      3\n",
      "fff84de754cb5e44                      3\n",
      "fff928c55deb0ec0                      1\n",
      "fff99388a4b34ad1                      2\n",
      "fff9e6454bbdcbc1                      2\n",
      "fffa3e0f8463e880                      1\n",
      "fffa8c2d4ef75336                      1\n",
      "fffadfda4de181c7                      2\n",
      "fffb6c23c044105b                      3\n",
      "fffc977d458a46d9                      1\n",
      "fffcaaba737f0b83                      1\n",
      "fffd07e88e66446d                      1\n",
      "fffda380562b1482                      2\n",
      "fffe045b758868e1                      2\n",
      "fffeead249ef4c8e                      2\n",
      "fffeeeded950732d                      1\n",
      "\n",
      "[142474 rows x 1 columns]\n"
     ]
    }
   ],
   "source": [
    "category = new.apply(lambda x:sum(x['Count']))\n",
    "category = pd.DataFrame(category)\n",
    "category.columns = ['Count']\n",
    "print(category)"
   ]
  },
  {
   "cell_type": "code",
   "execution_count": 15,
   "metadata": {
    "scrolled": true
   },
   "outputs": [
    {
     "name": "stdout",
     "output_type": "stream",
     "text": [
      "                                  Count\n",
      "UUID                                   \n",
      "63f8e0fc8af6ce18                    349\n",
      "1CFB5C1DCD9D49A6B10ACB67B686757B     76\n",
      "527b87f3aa5f7f3f                     74\n",
      "421973975339222e                     73\n",
      "5f95920b82cf7a68                     65\n",
      "d17c6a0b0647b8a3                     64\n",
      "04302c6f6b943de8                     54\n",
      "be8c9cf788e6768e                     51\n",
      "7809e26eb105904b                     48\n",
      "3472654434F641A285345B7D3A9F2BC3     47\n",
      "ca55d6dbaabe6860                     46\n",
      "fd7951feab742a57                     42\n",
      "5772fffeed43fe99                     42\n",
      "a20379f527f32d2c                     41\n",
      "9b0625d28fe44294                     40\n",
      "65ba7524f6412870                     40\n",
      "7be3450e40c892b5                     39\n",
      "786b77affa0799ce                     38\n",
      "6dbb8b5238d74956                     38\n",
      "d9f69b3b1b732b90                     37\n",
      "91b9ac6043c093cf                     37\n",
      "3713b8b8927f4090                     35\n",
      "bf0651e3e05a71b8                     34\n",
      "14355210dbe4a88f                     33\n",
      "5892cb3df7d7e31f                     32\n",
      "44ddcab9149bda0e                     32\n",
      "844ef5358befc81d                     31\n",
      "014ad5ce8d2aa767                     31\n",
      "22d7f62f8eb9da3c                     30\n",
      "1c58882c9388219d                     30\n",
      "...                                 ...\n",
      "6adfa96f6322d6e9                      1\n",
      "6adf836461534770                      1\n",
      "6aec78c03a9a47a9                      1\n",
      "6af1881dc16e8cc3                      1\n",
      "6af191502ca55bb3                      1\n",
      "6af1dd9ebe410334                      1\n",
      "6afd76a3b18179e1                      1\n",
      "6afcb4d93178c27c                      1\n",
      "6afcb3bd2e49da14                      1\n",
      "6afc8bcf67855265                      1\n",
      "6afaf7bd2af14238                      1\n",
      "6afa49388c48e480                      1\n",
      "6af99466d1140c6a                      1\n",
      "6af924108f159b98                      1\n",
      "6af78e3b9e6de803                      1\n",
      "6af75038788460f3                      1\n",
      "6af70e7d9ffd48e2                      1\n",
      "6af70b6b87faaba5                      1\n",
      "6af67ff28f3126f6                      1\n",
      "6af66ead1285f3c3                      1\n",
      "6af5f4b365b6ec89                      1\n",
      "6af3ec953388107                       1\n",
      "6af38d9636e52b20                      1\n",
      "6af35a6e41a0fec7                      1\n",
      "6af34c0f16071a4f                      1\n",
      "6af2d52d5f66bd7d                      1\n",
      "6af2a1a3257291bd                      1\n",
      "6af1ec786c1a5f86                      1\n",
      "6af1ea734765d592                      1\n",
      "fffeeeded950732d                      1\n",
      "\n",
      "[142474 rows x 1 columns]\n"
     ]
    }
   ],
   "source": [
    "top = category.sort_values(by = ['Count'], ascending = False)\n",
    "print(top)"
   ]
  },
  {
   "cell_type": "code",
   "execution_count": 16,
   "metadata": {},
   "outputs": [
    {
     "name": "stdout",
     "output_type": "stream",
     "text": [
      "                                  Count\n",
      "UUID                                   \n",
      "63f8e0fc8af6ce18                    349\n",
      "1CFB5C1DCD9D49A6B10ACB67B686757B     76\n",
      "527b87f3aa5f7f3f                     74\n",
      "421973975339222e                     73\n",
      "5f95920b82cf7a68                     65\n",
      "d17c6a0b0647b8a3                     64\n",
      "04302c6f6b943de8                     54\n",
      "be8c9cf788e6768e                     51\n",
      "7809e26eb105904b                     48\n",
      "3472654434F641A285345B7D3A9F2BC3     47\n"
     ]
    }
   ],
   "source": [
    "x = top.head(10)\n",
    "print(x)"
   ]
  },
  {
   "cell_type": "code",
   "execution_count": 17,
   "metadata": {},
   "outputs": [
    {
     "data": {
      "text/plain": [
       "pandas.core.frame.DataFrame"
      ]
     },
     "execution_count": 17,
     "metadata": {},
     "output_type": "execute_result"
    }
   ],
   "source": [
    "type(x)"
   ]
  },
  {
   "cell_type": "code",
   "execution_count": 18,
   "metadata": {
    "scrolled": true
   },
   "outputs": [
    {
     "name": "stdout",
     "output_type": "stream",
     "text": [
      "63f8e0fc8af6ce18\n",
      "1CFB5C1DCD9D49A6B10ACB67B686757B\n",
      "527b87f3aa5f7f3f\n",
      "421973975339222e\n",
      "5f95920b82cf7a68\n",
      "d17c6a0b0647b8a3\n",
      "04302c6f6b943de8\n",
      "be8c9cf788e6768e\n",
      "7809e26eb105904b\n",
      "3472654434F641A285345B7D3A9F2BC3\n"
     ]
    }
   ],
   "source": [
    "for i in x.index:\n",
    "    print(i)"
   ]
  },
  {
   "cell_type": "code",
   "execution_count": 19,
   "metadata": {},
   "outputs": [
    {
     "name": "stdout",
     "output_type": "stream",
     "text": [
      "{'63f8e0fc8af6ce18': {}, '1CFB5C1DCD9D49A6B10ACB67B686757B': {}, '527b87f3aa5f7f3f': {}, '421973975339222e': {}, '5f95920b82cf7a68': {}, 'd17c6a0b0647b8a3': {}, '04302c6f6b943de8': {}, 'be8c9cf788e6768e': {}, '7809e26eb105904b': {}, '3472654434F641A285345B7D3A9F2BC3': {}}\n",
      "10\n"
     ]
    }
   ],
   "source": [
    "top = {}\n",
    "for i in x.index:\n",
    "    top.update({i:{}})\n",
    "print(top)\n",
    "print(len(top))"
   ]
  },
  {
   "cell_type": "code",
   "execution_count": 20,
   "metadata": {},
   "outputs": [],
   "source": [
    "for x in new:\n",
    "    if(x[0] in top):\n",
    "        name = list(x[1]['Name'])\n",
    "        count = list(x[1]['Count'])\n",
    "        Name = []\n",
    "        for i in range(len(name)):\n",
    "            if(name[i] not in Name):\n",
    "                Name.append(name[i])\n",
    "                top[x[0]].update({name[i]:count[i]})\n",
    "            else:\n",
    "                c = top[x[0]][name[i]] + count[i]\n",
    "                top[x[0]][name[i]] = c"
   ]
  },
  {
   "cell_type": "code",
   "execution_count": 21,
   "metadata": {},
   "outputs": [
    {
     "name": "stdout",
     "output_type": "stream",
     "text": [
      "{'63f8e0fc8af6ce18': {'Fashion': 273, 'Jewelry & Watches': 76}, '1CFB5C1DCD9D49A6B10ACB67B686757B': {'Appliances': 5, 'Mobile & Laptop Accessories': 1, 'Toys, Baby & Kids': 4, 'Footwear': 14, 'Fashion': 4, 'Jewelry & Watches': 5, 'Home & Kitchen': 12, 'Automotive': 1, 'Computers': 2, 'Sports & Health': 16, 'Beauty & Perfumes': 8, 'Bags & Luggage': 4}, '527b87f3aa5f7f3f': {'Home & Kitchen': 74}, '421973975339222e': {'Toys, Baby & Kids': 2, 'Footwear': 24, 'Fashion': 6, 'Jewelry & Watches': 32, 'Home & Kitchen': 4, 'Mobiles & Tablets': 5}, '5f95920b82cf7a68': {'Fashion': 65}, 'd17c6a0b0647b8a3': {'Toys, Baby & Kids': 63, 'Sports & Health': 1}, '04302c6f6b943de8': {'Fashion': 53, 'Bags & Luggage': 1}, 'be8c9cf788e6768e': {'Home & Kitchen': 51}, '7809e26eb105904b': {'Fashion': 2, 'Home & Kitchen': 46}, '3472654434F641A285345B7D3A9F2BC3': {'Mobile & Laptop Accessories': 12, 'Jewelry & Watches': 15, 'Home & Kitchen': 5, 'Computers': 15}}\n"
     ]
    }
   ],
   "source": [
    "print(top)"
   ]
  },
  {
   "cell_type": "code",
   "execution_count": 22,
   "metadata": {},
   "outputs": [
    {
     "name": "stdout",
     "output_type": "stream",
     "text": [
      "10\n"
     ]
    }
   ],
   "source": [
    "x = ['U1','U2','U3','U4','U5','U6','U7','U8','U9','U10']\n",
    "print(len(x))"
   ]
  },
  {
   "cell_type": "code",
   "execution_count": 23,
   "metadata": {},
   "outputs": [
    {
     "name": "stdout",
     "output_type": "stream",
     "text": [
      "{'Fashion': 273, 'Jewelry & Watches': 76}\n",
      "{'Appliances': 5, 'Mobile & Laptop Accessories': 1, 'Toys, Baby & Kids': 4, 'Footwear': 14, 'Fashion': 4, 'Jewelry & Watches': 5, 'Home & Kitchen': 12, 'Automotive': 1, 'Computers': 2, 'Sports & Health': 16, 'Beauty & Perfumes': 8, 'Bags & Luggage': 4}\n",
      "{'Home & Kitchen': 74}\n",
      "{'Toys, Baby & Kids': 2, 'Footwear': 24, 'Fashion': 6, 'Jewelry & Watches': 32, 'Home & Kitchen': 4, 'Mobiles & Tablets': 5}\n",
      "{'Fashion': 65}\n",
      "{'Toys, Baby & Kids': 63, 'Sports & Health': 1}\n",
      "{'Fashion': 53, 'Bags & Luggage': 1}\n",
      "{'Home & Kitchen': 51}\n",
      "{'Fashion': 2, 'Home & Kitchen': 46}\n",
      "{'Mobile & Laptop Accessories': 12, 'Jewelry & Watches': 15, 'Home & Kitchen': 5, 'Computers': 15}\n"
     ]
    }
   ],
   "source": [
    "v = list(top.values())\n",
    "for i in range(len(x)):\n",
    "    print(v[i])"
   ]
  },
  {
   "cell_type": "code",
   "execution_count": 24,
   "metadata": {},
   "outputs": [
    {
     "name": "stdout",
     "output_type": "stream",
     "text": [
      "{'U1': {'Fashion': 273, 'Jewelry & Watches': 76}, 'U2': {'Appliances': 5, 'Mobile & Laptop Accessories': 1, 'Toys, Baby & Kids': 4, 'Footwear': 14, 'Fashion': 4, 'Jewelry & Watches': 5, 'Home & Kitchen': 12, 'Automotive': 1, 'Computers': 2, 'Sports & Health': 16, 'Beauty & Perfumes': 8, 'Bags & Luggage': 4}, 'U3': {'Home & Kitchen': 74}, 'U4': {'Toys, Baby & Kids': 2, 'Footwear': 24, 'Fashion': 6, 'Jewelry & Watches': 32, 'Home & Kitchen': 4, 'Mobiles & Tablets': 5}, 'U5': {'Fashion': 65}, 'U6': {'Toys, Baby & Kids': 63, 'Sports & Health': 1}, 'U7': {'Fashion': 53, 'Bags & Luggage': 1}, 'U8': {'Home & Kitchen': 51}, 'U9': {'Fashion': 2, 'Home & Kitchen': 46}, 'U10': {'Mobile & Laptop Accessories': 12, 'Jewelry & Watches': 15, 'Home & Kitchen': 5, 'Computers': 15}}\n"
     ]
    }
   ],
   "source": [
    "final = {}\n",
    "v = list(top.values())\n",
    "for i in range(len(x)):\n",
    "    final.update({x[i]:v[i]})\n",
    "print(final)"
   ]
  },
  {
   "cell_type": "code",
   "execution_count": 25,
   "metadata": {},
   "outputs": [],
   "source": [
    "FavCategory = pd.DataFrame()\n",
    "FavCategory['User'] = list(final.keys())\n",
    "FavCategory['Favourite'] = list(final.values())"
   ]
  },
  {
   "cell_type": "code",
   "execution_count": 27,
   "metadata": {},
   "outputs": [
    {
     "name": "stdout",
     "output_type": "stream",
     "text": [
      "  User                                          Favourite\n",
      "0   U1          {'Fashion': 273, 'Jewelry & Watches': 76}\n",
      "1   U2  {'Appliances': 5, 'Mobile & Laptop Accessories...\n",
      "2   U3                             {'Home & Kitchen': 74}\n",
      "3   U4  {'Toys, Baby & Kids': 2, 'Footwear': 24, 'Fash...\n",
      "4   U5                                    {'Fashion': 65}\n",
      "5   U6    {'Toys, Baby & Kids': 63, 'Sports & Health': 1}\n",
      "6   U7               {'Fashion': 53, 'Bags & Luggage': 1}\n",
      "7   U8                             {'Home & Kitchen': 51}\n",
      "8   U9               {'Fashion': 2, 'Home & Kitchen': 46}\n",
      "9  U10  {'Mobile & Laptop Accessories': 12, 'Jewelry &...\n"
     ]
    }
   ],
   "source": [
    "print(FavCategory)"
   ]
  },
  {
   "cell_type": "code",
   "execution_count": 28,
   "metadata": {},
   "outputs": [
    {
     "name": "stdout",
     "output_type": "stream",
     "text": [
      "                                              Favourite\n",
      "User                                                   \n",
      "U1            {'Fashion': 273, 'Jewelry & Watches': 76}\n",
      "U2    {'Appliances': 5, 'Mobile & Laptop Accessories...\n",
      "U3                               {'Home & Kitchen': 74}\n",
      "U4    {'Toys, Baby & Kids': 2, 'Footwear': 24, 'Fash...\n",
      "U5                                      {'Fashion': 65}\n",
      "U6      {'Toys, Baby & Kids': 63, 'Sports & Health': 1}\n",
      "U7                 {'Fashion': 53, 'Bags & Luggage': 1}\n",
      "U8                               {'Home & Kitchen': 51}\n",
      "U9                 {'Fashion': 2, 'Home & Kitchen': 46}\n",
      "U10   {'Mobile & Laptop Accessories': 12, 'Jewelry &...\n"
     ]
    }
   ],
   "source": [
    "FavCategory = FavCategory.set_index('User')\n",
    "print(FavCategory)"
   ]
  },
  {
   "cell_type": "code",
   "execution_count": 29,
   "metadata": {},
   "outputs": [
    {
     "name": "stdout",
     "output_type": "stream",
     "text": [
      "[[('Fashion', 273), ('Jewelry & Watches', 76)], [('Sports & Health', 16), ('Footwear', 14), ('Home & Kitchen', 12), ('Beauty & Perfumes', 8), ('Appliances', 5), ('Jewelry & Watches', 5), ('Toys, Baby & Kids', 4), ('Fashion', 4), ('Bags & Luggage', 4), ('Computers', 2), ('Mobile & Laptop Accessories', 1), ('Automotive', 1)], [('Home & Kitchen', 74)], [('Jewelry & Watches', 32), ('Footwear', 24), ('Fashion', 6), ('Mobiles & Tablets', 5), ('Home & Kitchen', 4), ('Toys, Baby & Kids', 2)], [('Fashion', 65)], [('Toys, Baby & Kids', 63), ('Sports & Health', 1)], [('Fashion', 53), ('Bags & Luggage', 1)], [('Home & Kitchen', 51)], [('Home & Kitchen', 46), ('Fashion', 2)], [('Jewelry & Watches', 15), ('Computers', 15), ('Mobile & Laptop Accessories', 12), ('Home & Kitchen', 5)]]\n"
     ]
    }
   ],
   "source": [
    "Fav = []\n",
    "for i in FavCategory['Favourite']:\n",
    "    ss =  sorted(i.items(), key=lambda x: x[1], reverse = True)\n",
    "    Fav.append(ss)\n",
    "print(Fav)"
   ]
  },
  {
   "cell_type": "code",
   "execution_count": 30,
   "metadata": {},
   "outputs": [],
   "source": [
    "FavCategory['Favourite'] = Fav"
   ]
  },
  {
   "cell_type": "code",
   "execution_count": 31,
   "metadata": {},
   "outputs": [
    {
     "name": "stdout",
     "output_type": "stream",
     "text": [
      "                                              Favourite\n",
      "User                                                   \n",
      "U1            [(Fashion, 273), (Jewelry & Watches, 76)]\n",
      "U2    [(Sports & Health, 16), (Footwear, 14), (Home ...\n",
      "U3                               [(Home & Kitchen, 74)]\n",
      "U4    [(Jewelry & Watches, 32), (Footwear, 24), (Fas...\n",
      "U5                                      [(Fashion, 65)]\n",
      "U6      [(Toys, Baby & Kids, 63), (Sports & Health, 1)]\n",
      "U7                 [(Fashion, 53), (Bags & Luggage, 1)]\n",
      "U8                               [(Home & Kitchen, 51)]\n",
      "U9                 [(Home & Kitchen, 46), (Fashion, 2)]\n",
      "U10   [(Jewelry & Watches, 15), (Computers, 15), (Mo...\n"
     ]
    }
   ],
   "source": [
    "print(FavCategory)"
   ]
  },
  {
   "cell_type": "code",
   "execution_count": 32,
   "metadata": {},
   "outputs": [],
   "source": [
    "def findFav(x):\n",
    "    p = FavCategory[FavCategory.index==x]\n",
    "    print('Favourite Categories with Count:')\n",
    "    for i,j in p['Favourite'].items():\n",
    "            for x in j:\n",
    "                print(x[0],'->',x[1])"
   ]
  },
  {
   "cell_type": "code",
   "execution_count": 33,
   "metadata": {},
   "outputs": [
    {
     "name": "stdout",
     "output_type": "stream",
     "text": [
      "Favourite Categories with Count:\n",
      "Fashion -> 273\n",
      "Jewelry & Watches -> 76\n"
     ]
    }
   ],
   "source": [
    "findFav('U1')"
   ]
  },
  {
   "cell_type": "code",
   "execution_count": 41,
   "metadata": {},
   "outputs": [
    {
     "name": "stdout",
     "output_type": "stream",
     "text": [
      "['Fashion', 'Sports & Health', 'Home & Kitchen', 'Jewelry & Watches', 'Fashion', 'Toys, Baby & Kids', 'Fashion', 'Home & Kitchen', 'Home & Kitchen', 'Jewelry & Watches']\n"
     ]
    }
   ],
   "source": [
    "t = []\n",
    "for i,j in FavCategory['Favourite'].items():\n",
    "        t.append(j[0][0])\n",
    "print(t)"
   ]
  },
  {
   "cell_type": "code",
   "execution_count": 42,
   "metadata": {},
   "outputs": [
    {
     "data": {
      "text/html": [
       "<div>\n",
       "<style scoped>\n",
       "    .dataframe tbody tr th:only-of-type {\n",
       "        vertical-align: middle;\n",
       "    }\n",
       "\n",
       "    .dataframe tbody tr th {\n",
       "        vertical-align: top;\n",
       "    }\n",
       "\n",
       "    .dataframe thead th {\n",
       "        text-align: right;\n",
       "    }\n",
       "</style>\n",
       "<table border=\"1\" class=\"dataframe\">\n",
       "  <thead>\n",
       "    <tr style=\"text-align: right;\">\n",
       "      <th></th>\n",
       "      <th>User</th>\n",
       "      <th>FavCat</th>\n",
       "    </tr>\n",
       "  </thead>\n",
       "  <tbody>\n",
       "  </tbody>\n",
       "</table>\n",
       "</div>"
      ],
      "text/plain": [
       "Empty DataFrame\n",
       "Columns: [User, FavCat]\n",
       "Index: []"
      ]
     },
     "execution_count": 42,
     "metadata": {},
     "output_type": "execute_result"
    }
   ],
   "source": [
    "final = pd.DataFrame(columns = ['User','FavCat'])\n",
    "final"
   ]
  },
  {
   "cell_type": "code",
   "execution_count": 43,
   "metadata": {},
   "outputs": [
    {
     "data": {
      "text/html": [
       "<div>\n",
       "<style scoped>\n",
       "    .dataframe tbody tr th:only-of-type {\n",
       "        vertical-align: middle;\n",
       "    }\n",
       "\n",
       "    .dataframe tbody tr th {\n",
       "        vertical-align: top;\n",
       "    }\n",
       "\n",
       "    .dataframe thead th {\n",
       "        text-align: right;\n",
       "    }\n",
       "</style>\n",
       "<table border=\"1\" class=\"dataframe\">\n",
       "  <thead>\n",
       "    <tr style=\"text-align: right;\">\n",
       "      <th></th>\n",
       "      <th>User</th>\n",
       "      <th>FavCat</th>\n",
       "    </tr>\n",
       "  </thead>\n",
       "  <tbody>\n",
       "    <tr>\n",
       "      <th>0</th>\n",
       "      <td>U1</td>\n",
       "      <td>Fashion</td>\n",
       "    </tr>\n",
       "    <tr>\n",
       "      <th>1</th>\n",
       "      <td>U2</td>\n",
       "      <td>Sports &amp; Health</td>\n",
       "    </tr>\n",
       "    <tr>\n",
       "      <th>2</th>\n",
       "      <td>U3</td>\n",
       "      <td>Home &amp; Kitchen</td>\n",
       "    </tr>\n",
       "    <tr>\n",
       "      <th>3</th>\n",
       "      <td>U4</td>\n",
       "      <td>Jewelry &amp; Watches</td>\n",
       "    </tr>\n",
       "    <tr>\n",
       "      <th>4</th>\n",
       "      <td>U5</td>\n",
       "      <td>Fashion</td>\n",
       "    </tr>\n",
       "    <tr>\n",
       "      <th>5</th>\n",
       "      <td>U6</td>\n",
       "      <td>Toys, Baby &amp; Kids</td>\n",
       "    </tr>\n",
       "    <tr>\n",
       "      <th>6</th>\n",
       "      <td>U7</td>\n",
       "      <td>Fashion</td>\n",
       "    </tr>\n",
       "    <tr>\n",
       "      <th>7</th>\n",
       "      <td>U8</td>\n",
       "      <td>Home &amp; Kitchen</td>\n",
       "    </tr>\n",
       "    <tr>\n",
       "      <th>8</th>\n",
       "      <td>U9</td>\n",
       "      <td>Home &amp; Kitchen</td>\n",
       "    </tr>\n",
       "    <tr>\n",
       "      <th>9</th>\n",
       "      <td>U10</td>\n",
       "      <td>Jewelry &amp; Watches</td>\n",
       "    </tr>\n",
       "  </tbody>\n",
       "</table>\n",
       "</div>"
      ],
      "text/plain": [
       "  User             FavCat\n",
       "0   U1            Fashion\n",
       "1   U2    Sports & Health\n",
       "2   U3     Home & Kitchen\n",
       "3   U4  Jewelry & Watches\n",
       "4   U5            Fashion\n",
       "5   U6  Toys, Baby & Kids\n",
       "6   U7            Fashion\n",
       "7   U8     Home & Kitchen\n",
       "8   U9     Home & Kitchen\n",
       "9  U10  Jewelry & Watches"
      ]
     },
     "execution_count": 43,
     "metadata": {},
     "output_type": "execute_result"
    }
   ],
   "source": [
    "final['User'] = FavCategory.index\n",
    "final['FavCat'] = t\n",
    "final"
   ]
  }
 ],
 "metadata": {
  "kernelspec": {
   "display_name": "Python 3",
   "language": "python",
   "name": "python3"
  },
  "language_info": {
   "codemirror_mode": {
    "name": "ipython",
    "version": 3
   },
   "file_extension": ".py",
   "mimetype": "text/x-python",
   "name": "python",
   "nbconvert_exporter": "python",
   "pygments_lexer": "ipython3",
   "version": "3.6.5"
  }
 },
 "nbformat": 4,
 "nbformat_minor": 2
}
