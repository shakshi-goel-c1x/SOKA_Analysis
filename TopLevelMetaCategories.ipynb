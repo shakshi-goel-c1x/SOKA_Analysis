{
 "cells": [
  {
   "cell_type": "code",
   "execution_count": 1,
   "metadata": {},
   "outputs": [],
   "source": [
    "# importing the packages\n",
    "%matplotlib inline      \n",
    "import matplotlib.pyplot as plt\n",
    "from matplotlib.pyplot import figure\n",
    "import pandas as pd\n",
    "import numpy as np\n",
    "import psycopg2\n",
    "import sqlalchemy\n",
    "from sqlalchemy import create_engine"
   ]
  },
  {
   "cell_type": "code",
   "execution_count": 2,
   "metadata": {},
   "outputs": [
    {
     "name": "stdout",
     "output_type": "stream",
     "text": [
      "Connection established\n"
     ]
    }
   ],
   "source": [
    "try:\n",
    "    connection = psycopg2.connect(user = \"spyfu\",\n",
    "                                  password = \"SpyfuU$3r\",\n",
    "                                  host = \"18.219.13.131\",\n",
    "                                  port = \"5432\",\n",
    "                                  database = \"spyfu\")\n",
    "    cursor = connection.cursor()\n",
    "except (Exception, psycopg2.Error) as error :\n",
    "    print (\"Error while connecting to PostgreSQL \", error)\n",
    "else:\n",
    "    print(\"Connection established\")"
   ]
  },
  {
   "cell_type": "code",
   "execution_count": 3,
   "metadata": {},
   "outputs": [],
   "source": [
    "date = \"'2019-06-05'\""
   ]
  },
  {
   "cell_type": "code",
   "execution_count": 4,
   "metadata": {},
   "outputs": [
    {
     "name": "stdout",
     "output_type": "stream",
     "text": [
      "select mcid, uuid from click_agg_poc where date_utc = '2019-06-05'\n"
     ]
    }
   ],
   "source": [
    "k = \"select mcid, uuid from click_agg_poc where date_utc = \" + date\n",
    "print(k)"
   ]
  },
  {
   "cell_type": "code",
   "execution_count": 5,
   "metadata": {},
   "outputs": [
    {
     "name": "stdout",
     "output_type": "stream",
     "text": [
      "31891\n",
      "31891\n"
     ]
    }
   ],
   "source": [
    "cursor.execute(k)\n",
    "day1 = cursor.fetchall()\n",
    "week = day1\n",
    "print(len(week))\n",
    "print(len(day1))"
   ]
  },
  {
   "cell_type": "code",
   "execution_count": null,
   "metadata": {},
   "outputs": [],
   "source": [
    "week = pd.DataFrame(week)\n",
    "day1 = pd.DataFrame(day1)\n",
    "week.columns = ['MCID','UUID']\n",
    "day1.columns = ['MCID','UUID']"
   ]
  },
  {
   "cell_type": "code",
   "execution_count": null,
   "metadata": {},
   "outputs": [],
   "source": [
    "len(day1)"
   ]
  },
  {
   "cell_type": "code",
   "execution_count": null,
   "metadata": {},
   "outputs": [],
   "source": [
    "cursor.execute(\"select mcid, uuid from click_agg_poc where date_utc = '2019-06-06' \")\n",
    "day2 = cursor.fetchall()\n",
    "print(len(day2))"
   ]
  },
  {
   "cell_type": "code",
   "execution_count": null,
   "metadata": {},
   "outputs": [],
   "source": [
    "day2 = pd.DataFrame(day2)\n",
    "day2.columns = ['MCID','UUID']"
   ]
  },
  {
   "cell_type": "code",
   "execution_count": null,
   "metadata": {},
   "outputs": [],
   "source": [
    "week = week.append(day2);"
   ]
  },
  {
   "cell_type": "code",
   "execution_count": null,
   "metadata": {},
   "outputs": [],
   "source": [
    "len(week)"
   ]
  },
  {
   "cell_type": "code",
   "execution_count": null,
   "metadata": {},
   "outputs": [],
   "source": [
    "cursor.execute(\"select mcid, uuid from click_agg_poc where date_utc = '2019-06-07'\")\n",
    "day3 = cursor.fetchall()\n",
    "print(len(day3))"
   ]
  },
  {
   "cell_type": "code",
   "execution_count": null,
   "metadata": {},
   "outputs": [],
   "source": [
    "day3 = pd.DataFrame(day3)\n",
    "day3.columns = ['MCID','UUID']"
   ]
  },
  {
   "cell_type": "code",
   "execution_count": null,
   "metadata": {},
   "outputs": [],
   "source": [
    "week = week.append(day3);"
   ]
  },
  {
   "cell_type": "code",
   "execution_count": null,
   "metadata": {},
   "outputs": [],
   "source": [
    "cursor.execute(\"select mcid, uuid from click_agg_poc where date_utc = '2019-06-08'\")\n",
    "day4 = cursor.fetchall()\n",
    "print(len(day4))"
   ]
  },
  {
   "cell_type": "code",
   "execution_count": null,
   "metadata": {},
   "outputs": [],
   "source": [
    "day4 = pd.DataFrame(day4)\n",
    "day4.columns = ['MCID','UUID']\n",
    "week = week.append(day4)"
   ]
  },
  {
   "cell_type": "code",
   "execution_count": null,
   "metadata": {},
   "outputs": [],
   "source": [
    "cursor.execute(\"select mcid, uuid from click_agg_poc where date_utc = '2019-06-09'\")\n",
    "day5 = cursor.fetchall()\n",
    "print(len(day5))"
   ]
  },
  {
   "cell_type": "code",
   "execution_count": null,
   "metadata": {},
   "outputs": [],
   "source": [
    "day5 = pd.DataFrame(day5)\n",
    "day5.columns = ['MCID','UUID']\n",
    "week = week.append(day5);"
   ]
  },
  {
   "cell_type": "code",
   "execution_count": null,
   "metadata": {},
   "outputs": [],
   "source": [
    "cursor.execute(\"select mcid, uuid from click_agg_poc where date_utc = '2019-06-10'\")\n",
    "day6 = cursor.fetchall()\n",
    "print(len(day6))"
   ]
  },
  {
   "cell_type": "code",
   "execution_count": null,
   "metadata": {},
   "outputs": [],
   "source": [
    "day6 = pd.DataFrame(day6)\n",
    "day6.columns = ['MCID','UUID']\n",
    "week = week.append(day6);"
   ]
  },
  {
   "cell_type": "code",
   "execution_count": null,
   "metadata": {},
   "outputs": [],
   "source": [
    "cursor.execute(\"select mcid, uuid from click_agg_poc where date_utc = '2019-06-11'\")\n",
    "day7 = cursor.fetchall()\n",
    "print(len(day7))"
   ]
  },
  {
   "cell_type": "code",
   "execution_count": null,
   "metadata": {},
   "outputs": [],
   "source": [
    "day7 = pd.DataFrame(day7)\n",
    "day7.columns = ['MCID','UUID']\n",
    "week = week.append(day7);"
   ]
  },
  {
   "cell_type": "code",
   "execution_count": null,
   "metadata": {},
   "outputs": [],
   "source": [
    "len(week)"
   ]
  },
  {
   "cell_type": "code",
   "execution_count": null,
   "metadata": {},
   "outputs": [],
   "source": [
    "week = week[week['UUID']!='undefined']\n",
    "len(week)"
   ]
  },
  {
   "cell_type": "code",
   "execution_count": null,
   "metadata": {},
   "outputs": [],
   "source": [
    "new = week.groupby(week.MCID)"
   ]
  },
  {
   "cell_type": "code",
   "execution_count": null,
   "metadata": {},
   "outputs": [],
   "source": [
    "week['UUID'].value_counts()"
   ]
  },
  {
   "cell_type": "code",
   "execution_count": null,
   "metadata": {},
   "outputs": [],
   "source": [
    "week.nunique()"
   ]
  },
  {
   "cell_type": "code",
   "execution_count": null,
   "metadata": {},
   "outputs": [],
   "source": [
    "category = new.apply(lambda x:x['UUID'].unique())\n",
    "category = pd.DataFrame(category)\n",
    "category.columns = ['UUID']\n",
    "#print(category)"
   ]
  },
  {
   "cell_type": "code",
   "execution_count": null,
   "metadata": {},
   "outputs": [],
   "source": [
    "top = {}\n",
    "count = 0\n",
    "for index,row in category.iterrows():\n",
    "    top.update({index:0})\n",
    "    for i in row:\n",
    "        c = len(i)\n",
    "    top[index]=c\n",
    "    count = count+c\n",
    "print(top)\n",
    "#print(count)"
   ]
  },
  {
   "cell_type": "code",
   "execution_count": null,
   "metadata": {},
   "outputs": [],
   "source": [
    "topCategory = [ [k,v] for k, v in top.items() ]\n",
    "topCategory.sort(key = lambda x: x[1], reverse=True)  \n",
    "print(topCategory) "
   ]
  },
  {
   "cell_type": "code",
   "execution_count": null,
   "metadata": {},
   "outputs": [],
   "source": [
    "df = pd.DataFrame(topCategory)\n",
    "df.columns = ['MCID','Count']\n",
    "print(len(df))"
   ]
  },
  {
   "cell_type": "code",
   "execution_count": null,
   "metadata": {},
   "outputs": [],
   "source": [
    "print(df)"
   ]
  },
  {
   "cell_type": "code",
   "execution_count": null,
   "metadata": {},
   "outputs": [],
   "source": [
    "cat = pd.read_csv(\"category_soka.csv\")\n",
    "cat = cat[['id','name']]\n",
    "cat = pd.DataFrame(cat)\n",
    "cat.columns = ['MCID','Name']\n",
    "cat.head()"
   ]
  },
  {
   "cell_type": "code",
   "execution_count": null,
   "metadata": {},
   "outputs": [],
   "source": [
    "cat.nunique()"
   ]
  },
  {
   "cell_type": "code",
   "execution_count": null,
   "metadata": {},
   "outputs": [],
   "source": [
    "result = pd.merge(df, cat, on='MCID')"
   ]
  },
  {
   "cell_type": "code",
   "execution_count": null,
   "metadata": {},
   "outputs": [],
   "source": [
    "len(result)"
   ]
  },
  {
   "cell_type": "code",
   "execution_count": null,
   "metadata": {},
   "outputs": [],
   "source": [
    "result"
   ]
  },
  {
   "cell_type": "code",
   "execution_count": null,
   "metadata": {},
   "outputs": [],
   "source": [
    "final = result.head(10)\n",
    "final"
   ]
  },
  {
   "cell_type": "code",
   "execution_count": null,
   "metadata": {},
   "outputs": [],
   "source": [
    "f, ax = plt.subplots(figsize=(15, 8)) \n",
    "y_pos = np.arange(10)\n",
    "plt.bar(y_pos, final['Count'])\n",
    "plt.xticks(y_pos, final['Name'],fontsize=15, rotation = 90)\n",
    "plt.yticks(fontsize=15)\n",
    "plt.xlabel('MetaCategory Name',fontsize=15)\n",
    "plt.ylabel('Number of Unique UUIDs matched',fontsize=15)\n",
    "plt.title('Top 10 MetaCategories',fontsize=20)\n",
    "plt.show()"
   ]
  }
 ],
 "metadata": {
  "kernelspec": {
   "display_name": "Python 3",
   "language": "python",
   "name": "python3"
  },
  "language_info": {
   "codemirror_mode": {
    "name": "ipython",
    "version": 3
   },
   "file_extension": ".py",
   "mimetype": "text/x-python",
   "name": "python",
   "nbconvert_exporter": "python",
   "pygments_lexer": "ipython3",
   "version": "3.6.5"
  }
 },
 "nbformat": 4,
 "nbformat_minor": 2
}
