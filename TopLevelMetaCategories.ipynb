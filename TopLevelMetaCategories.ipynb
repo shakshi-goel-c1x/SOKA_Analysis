{
 "cells": [
  {
   "cell_type": "code",
   "execution_count": 1,
   "metadata": {},
   "outputs": [],
   "source": [
    "# importing the packages\n",
    "%matplotlib inline      \n",
    "import matplotlib.pyplot as plt\n",
    "from matplotlib.pyplot import figure\n",
    "import pandas as pd\n",
    "import numpy as np\n",
    "import psycopg2\n",
    "import sqlalchemy\n",
    "from sqlalchemy import create_engine"
   ]
  },
  {
   "cell_type": "code",
   "execution_count": 2,
   "metadata": {},
   "outputs": [
    {
     "name": "stdout",
     "output_type": "stream",
     "text": [
      "Connection established\n"
     ]
    }
   ],
   "source": [
    "try:\n",
    "    connection = psycopg2.connect(user = \"spyfu\",\n",
    "                                  password = \"SpyfuU$3r\",\n",
    "                                  host = \"18.219.13.131\",\n",
    "                                  port = \"5432\",\n",
    "                                  database = \"spyfu\")\n",
    "    cursor = connection.cursor()\n",
    "except (Exception, psycopg2.Error) as error :\n",
    "    print (\"Error while connecting to PostgreSQL \", error)\n",
    "else:\n",
    "    print(\"Connection established\")"
   ]
  },
  {
   "cell_type": "code",
   "execution_count": 3,
   "metadata": {},
   "outputs": [],
   "source": [
    "date = \"'2019-06-05'\""
   ]
  },
  {
   "cell_type": "code",
   "execution_count": 4,
   "metadata": {},
   "outputs": [
    {
     "name": "stdout",
     "output_type": "stream",
     "text": [
      "select mcid, uuid from click_agg_poc where date_utc = '2019-06-05'\n"
     ]
    }
   ],
   "source": [
    "k = \"select mcid, uuid from click_agg_poc where date_utc = \" + date\n",
    "print(k)"
   ]
  },
  {
   "cell_type": "code",
   "execution_count": 5,
   "metadata": {},
   "outputs": [
    {
     "name": "stdout",
     "output_type": "stream",
     "text": [
      "31891\n",
      "31891\n"
     ]
    }
   ],
   "source": [
    "cursor.execute(k)\n",
    "day1 = cursor.fetchall()\n",
    "week = day1\n",
    "print(len(week))\n",
    "print(len(day1))"
   ]
  },
  {
   "cell_type": "code",
   "execution_count": 6,
   "metadata": {},
   "outputs": [],
   "source": [
    "week = pd.DataFrame(week)\n",
    "day1 = pd.DataFrame(day1)\n",
    "week.columns = ['MCID','UUID']\n",
    "day1.columns = ['MCID','UUID']"
   ]
  },
  {
   "cell_type": "code",
   "execution_count": 7,
   "metadata": {},
   "outputs": [
    {
     "data": {
      "text/plain": [
       "31891"
      ]
     },
     "execution_count": 7,
     "metadata": {},
     "output_type": "execute_result"
    }
   ],
   "source": [
    "len(day1)"
   ]
  },
  {
   "cell_type": "code",
   "execution_count": 8,
   "metadata": {},
   "outputs": [
    {
     "name": "stdout",
     "output_type": "stream",
     "text": [
      "37400\n"
     ]
    }
   ],
   "source": [
    "cursor.execute(\"select mcid, uuid from click_agg_poc where date_utc = '2019-06-06' \")\n",
    "day2 = cursor.fetchall()\n",
    "print(len(day2))"
   ]
  },
  {
   "cell_type": "code",
   "execution_count": 9,
   "metadata": {},
   "outputs": [],
   "source": [
    "day2 = pd.DataFrame(day2)\n",
    "day2.columns = ['MCID','UUID']"
   ]
  },
  {
   "cell_type": "code",
   "execution_count": 10,
   "metadata": {},
   "outputs": [],
   "source": [
    "week = week.append(day2);"
   ]
  },
  {
   "cell_type": "code",
   "execution_count": 11,
   "metadata": {},
   "outputs": [
    {
     "data": {
      "text/plain": [
       "69291"
      ]
     },
     "execution_count": 11,
     "metadata": {},
     "output_type": "execute_result"
    }
   ],
   "source": [
    "len(week)"
   ]
  },
  {
   "cell_type": "code",
   "execution_count": 12,
   "metadata": {},
   "outputs": [
    {
     "name": "stdout",
     "output_type": "stream",
     "text": [
      "38171\n"
     ]
    }
   ],
   "source": [
    "cursor.execute(\"select mcid, uuid from click_agg_poc where date_utc = '2019-06-07'\")\n",
    "day3 = cursor.fetchall()\n",
    "print(len(day3))"
   ]
  },
  {
   "cell_type": "code",
   "execution_count": 13,
   "metadata": {},
   "outputs": [],
   "source": [
    "day3 = pd.DataFrame(day3)\n",
    "day3.columns = ['MCID','UUID']"
   ]
  },
  {
   "cell_type": "code",
   "execution_count": 14,
   "metadata": {},
   "outputs": [],
   "source": [
    "week = week.append(day3);"
   ]
  },
  {
   "cell_type": "code",
   "execution_count": 15,
   "metadata": {},
   "outputs": [
    {
     "name": "stdout",
     "output_type": "stream",
     "text": [
      "36215\n"
     ]
    }
   ],
   "source": [
    "cursor.execute(\"select mcid, uuid from click_agg_poc where date_utc = '2019-06-08'\")\n",
    "day4 = cursor.fetchall()\n",
    "print(len(day4))"
   ]
  },
  {
   "cell_type": "code",
   "execution_count": 16,
   "metadata": {},
   "outputs": [],
   "source": [
    "day4 = pd.DataFrame(day4)\n",
    "day4.columns = ['MCID','UUID']\n",
    "week = week.append(day4)"
   ]
  },
  {
   "cell_type": "code",
   "execution_count": 17,
   "metadata": {},
   "outputs": [
    {
     "name": "stdout",
     "output_type": "stream",
     "text": [
      "33481\n"
     ]
    }
   ],
   "source": [
    "cursor.execute(\"select mcid, uuid from click_agg_poc where date_utc = '2019-06-09'\")\n",
    "day5 = cursor.fetchall()\n",
    "print(len(day5))"
   ]
  },
  {
   "cell_type": "code",
   "execution_count": 18,
   "metadata": {},
   "outputs": [],
   "source": [
    "day5 = pd.DataFrame(day5)\n",
    "day5.columns = ['MCID','UUID']\n",
    "week = week.append(day5);"
   ]
  },
  {
   "cell_type": "code",
   "execution_count": 19,
   "metadata": {},
   "outputs": [
    {
     "name": "stdout",
     "output_type": "stream",
     "text": [
      "35776\n"
     ]
    }
   ],
   "source": [
    "cursor.execute(\"select mcid, uuid from click_agg_poc where date_utc = '2019-06-10'\")\n",
    "day6 = cursor.fetchall()\n",
    "print(len(day6))"
   ]
  },
  {
   "cell_type": "code",
   "execution_count": 20,
   "metadata": {},
   "outputs": [],
   "source": [
    "day6 = pd.DataFrame(day6)\n",
    "day6.columns = ['MCID','UUID']\n",
    "week = week.append(day6);"
   ]
  },
  {
   "cell_type": "code",
   "execution_count": 21,
   "metadata": {},
   "outputs": [
    {
     "name": "stdout",
     "output_type": "stream",
     "text": [
      "37745\n"
     ]
    }
   ],
   "source": [
    "cursor.execute(\"select mcid, uuid from click_agg_poc where date_utc = '2019-06-11'\")\n",
    "day7 = cursor.fetchall()\n",
    "print(len(day7))"
   ]
  },
  {
   "cell_type": "code",
   "execution_count": 22,
   "metadata": {},
   "outputs": [],
   "source": [
    "day7 = pd.DataFrame(day7)\n",
    "day7.columns = ['MCID','UUID']\n",
    "week = week.append(day7);"
   ]
  },
  {
   "cell_type": "code",
   "execution_count": 23,
   "metadata": {},
   "outputs": [
    {
     "data": {
      "text/plain": [
       "250679"
      ]
     },
     "execution_count": 23,
     "metadata": {},
     "output_type": "execute_result"
    }
   ],
   "source": [
    "len(week)"
   ]
  },
  {
   "cell_type": "code",
   "execution_count": 24,
   "metadata": {},
   "outputs": [
    {
     "data": {
      "text/plain": [
       "246323"
      ]
     },
     "execution_count": 24,
     "metadata": {},
     "output_type": "execute_result"
    }
   ],
   "source": [
    "week = week[week['UUID']!='undefined']\n",
    "len(week)"
   ]
  },
  {
   "cell_type": "code",
   "execution_count": 25,
   "metadata": {},
   "outputs": [],
   "source": [
    "new = week.groupby(week.MCID)"
   ]
  },
  {
   "cell_type": "code",
   "execution_count": 26,
   "metadata": {},
   "outputs": [
    {
     "data": {
      "text/plain": [
       "63f8e0fc8af6ce18                    349\n",
       "1CFB5C1DCD9D49A6B10ACB67B686757B     76\n",
       "527b87f3aa5f7f3f                     74\n",
       "421973975339222e                     73\n",
       "5f95920b82cf7a68                     65\n",
       "d17c6a0b0647b8a3                     64\n",
       "04302c6f6b943de8                     54\n",
       "be8c9cf788e6768e                     51\n",
       "7809e26eb105904b                     48\n",
       "3472654434F641A285345B7D3A9F2BC3     47\n",
       "ca55d6dbaabe6860                     46\n",
       "fd7951feab742a57                     42\n",
       "5772fffeed43fe99                     42\n",
       "a20379f527f32d2c                     41\n",
       "9b0625d28fe44294                     40\n",
       "65ba7524f6412870                     40\n",
       "7be3450e40c892b5                     39\n",
       "6dbb8b5238d74956                     38\n",
       "786b77affa0799ce                     38\n",
       "d9f69b3b1b732b90                     37\n",
       "91b9ac6043c093cf                     37\n",
       "3713b8b8927f4090                     35\n",
       "bf0651e3e05a71b8                     34\n",
       "14355210dbe4a88f                     33\n",
       "44ddcab9149bda0e                     32\n",
       "5892cb3df7d7e31f                     32\n",
       "014ad5ce8d2aa767                     31\n",
       "844ef5358befc81d                     31\n",
       "1c58882c9388219d                     30\n",
       "535843eb6a20577c                     30\n",
       "                                   ... \n",
       "38738d8d82d8f9fa                      1\n",
       "4cbb8f4072b2d4f                       1\n",
       "82327dcae0a6ba24                      1\n",
       "cc40f8272d53cca0                      1\n",
       "729a1eaf7e29464e                      1\n",
       "875e48d85c1482e0                      1\n",
       "863c752a4d991fd2                      1\n",
       "5934968b06dc9aaa                      1\n",
       "ff74c0f5db79ea93                      1\n",
       "c47ffa0926e6b9e9                      1\n",
       "464c163ad14e9b65                      1\n",
       "76911f5f177a304b                      1\n",
       "5a1683653c398a83                      1\n",
       "DC830FA0B2694C1E90CCB693A140C3BA      1\n",
       "2419ec408c46ec93                      1\n",
       "f0fb6be8c692fb95                      1\n",
       "f5d9dfc37d5f00c9                      1\n",
       "658896800bff61d                       1\n",
       "9db075e92e737f9c                      1\n",
       "d607f119c01aaf2c                      1\n",
       "0c1af63f5b3e05ab                      1\n",
       "144d7813dc5e43d5                      1\n",
       "a469c96c6f5cb008                      1\n",
       "55af1cac27951085                      1\n",
       "cd8b7f5bf5d97715                      1\n",
       "1ac42eaf6a006389                      1\n",
       "30805ff6ae188f4b                      1\n",
       "d74ae00cadd69e90                      1\n",
       "8b00c9a75779ff3b                      1\n",
       "2eaf14f2e96b0015                      1\n",
       "Name: UUID, Length: 142474, dtype: int64"
      ]
     },
     "execution_count": 26,
     "metadata": {},
     "output_type": "execute_result"
    }
   ],
   "source": [
    "week['UUID'].value_counts()"
   ]
  },
  {
   "cell_type": "code",
   "execution_count": 27,
   "metadata": {},
   "outputs": [
    {
     "data": {
      "text/plain": [
       "MCID        18\n",
       "UUID    142474\n",
       "dtype: int64"
      ]
     },
     "execution_count": 27,
     "metadata": {},
     "output_type": "execute_result"
    }
   ],
   "source": [
    "week.nunique()"
   ]
  },
  {
   "cell_type": "code",
   "execution_count": 28,
   "metadata": {},
   "outputs": [],
   "source": [
    "category = new.apply(lambda x:x['UUID'].unique())\n",
    "category = pd.DataFrame(category)\n",
    "category.columns = ['UUID']\n",
    "#print(category)"
   ]
  },
  {
   "cell_type": "code",
   "execution_count": 29,
   "metadata": {},
   "outputs": [
    {
     "name": "stdout",
     "output_type": "stream",
     "text": [
      "{85: 1272, 87: 52224, 89: 19111, 282: 13714, 337: 22204, 368: 2233, 453: 6863, 460: 959, 480: 4324, 628: 4731, 633: 5556, 5099: 29, 5926: 2204, 32644: 16123, 34572: 751, 40442: 5625, 59031: 89, 66849: 3}\n"
     ]
    }
   ],
   "source": [
    "top = {}\n",
    "count = 0\n",
    "for index,row in category.iterrows():\n",
    "    top.update({index:0})\n",
    "    for i in row:\n",
    "        c = len(i)\n",
    "    top[index]=c\n",
    "    count = count+c\n",
    "print(top)\n",
    "#print(count)"
   ]
  },
  {
   "cell_type": "code",
   "execution_count": 30,
   "metadata": {},
   "outputs": [
    {
     "name": "stdout",
     "output_type": "stream",
     "text": [
      "[[87, 52224], [337, 22204], [89, 19111], [32644, 16123], [282, 13714], [453, 6863], [40442, 5625], [633, 5556], [628, 4731], [480, 4324], [368, 2233], [5926, 2204], [85, 1272], [460, 959], [34572, 751], [59031, 89], [5099, 29], [66849, 3]]\n"
     ]
    }
   ],
   "source": [
    "topCategory = [ [k,v] for k, v in top.items() ]\n",
    "topCategory.sort(key = lambda x: x[1], reverse=True)  \n",
    "print(topCategory) "
   ]
  },
  {
   "cell_type": "code",
   "execution_count": 31,
   "metadata": {},
   "outputs": [
    {
     "name": "stdout",
     "output_type": "stream",
     "text": [
      "18\n"
     ]
    }
   ],
   "source": [
    "df = pd.DataFrame(topCategory)\n",
    "df.columns = ['MCID','Count']\n",
    "print(len(df))"
   ]
  },
  {
   "cell_type": "code",
   "execution_count": 32,
   "metadata": {},
   "outputs": [
    {
     "name": "stdout",
     "output_type": "stream",
     "text": [
      "     MCID  Count\n",
      "0      87  52224\n",
      "1     337  22204\n",
      "2      89  19111\n",
      "3   32644  16123\n",
      "4     282  13714\n",
      "5     453   6863\n",
      "6   40442   5625\n",
      "7     633   5556\n",
      "8     628   4731\n",
      "9     480   4324\n",
      "10    368   2233\n",
      "11   5926   2204\n",
      "12     85   1272\n",
      "13    460    959\n",
      "14  34572    751\n",
      "15  59031     89\n",
      "16   5099     29\n",
      "17  66849      3\n"
     ]
    }
   ],
   "source": [
    "print(df)"
   ]
  },
  {
   "cell_type": "code",
   "execution_count": 33,
   "metadata": {},
   "outputs": [
    {
     "data": {
      "text/html": [
       "<div>\n",
       "<style scoped>\n",
       "    .dataframe tbody tr th:only-of-type {\n",
       "        vertical-align: middle;\n",
       "    }\n",
       "\n",
       "    .dataframe tbody tr th {\n",
       "        vertical-align: top;\n",
       "    }\n",
       "\n",
       "    .dataframe thead th {\n",
       "        text-align: right;\n",
       "    }\n",
       "</style>\n",
       "<table border=\"1\" class=\"dataframe\">\n",
       "  <thead>\n",
       "    <tr style=\"text-align: right;\">\n",
       "      <th></th>\n",
       "      <th>MCID</th>\n",
       "      <th>Name</th>\n",
       "    </tr>\n",
       "  </thead>\n",
       "  <tbody>\n",
       "    <tr>\n",
       "      <th>0</th>\n",
       "      <td>-1</td>\n",
       "      <td>Offers Page</td>\n",
       "    </tr>\n",
       "    <tr>\n",
       "      <th>1</th>\n",
       "      <td>0</td>\n",
       "      <td>Home Page</td>\n",
       "    </tr>\n",
       "    <tr>\n",
       "      <th>2</th>\n",
       "      <td>85</td>\n",
       "      <td>Computers</td>\n",
       "    </tr>\n",
       "    <tr>\n",
       "      <th>3</th>\n",
       "      <td>86</td>\n",
       "      <td>Kitchen Maha Mela</td>\n",
       "    </tr>\n",
       "    <tr>\n",
       "      <th>4</th>\n",
       "      <td>87</td>\n",
       "      <td>Fashion</td>\n",
       "    </tr>\n",
       "  </tbody>\n",
       "</table>\n",
       "</div>"
      ],
      "text/plain": [
       "   MCID               Name\n",
       "0    -1        Offers Page\n",
       "1     0          Home Page\n",
       "2    85          Computers\n",
       "3    86  Kitchen Maha Mela\n",
       "4    87            Fashion"
      ]
     },
     "execution_count": 33,
     "metadata": {},
     "output_type": "execute_result"
    }
   ],
   "source": [
    "cat = pd.read_csv(\"category_soka.csv\")\n",
    "cat = cat[['id','name']]\n",
    "cat = pd.DataFrame(cat)\n",
    "cat.columns = ['MCID','Name']\n",
    "cat.head()"
   ]
  },
  {
   "cell_type": "code",
   "execution_count": 34,
   "metadata": {},
   "outputs": [
    {
     "data": {
      "text/plain": [
       "MCID    51200\n",
       "Name    20691\n",
       "dtype: int64"
      ]
     },
     "execution_count": 34,
     "metadata": {},
     "output_type": "execute_result"
    }
   ],
   "source": [
    "cat.nunique()"
   ]
  },
  {
   "cell_type": "code",
   "execution_count": 35,
   "metadata": {},
   "outputs": [],
   "source": [
    "result = pd.merge(df, cat, on='MCID')"
   ]
  },
  {
   "cell_type": "code",
   "execution_count": 36,
   "metadata": {},
   "outputs": [
    {
     "data": {
      "text/plain": [
       "18"
      ]
     },
     "execution_count": 36,
     "metadata": {},
     "output_type": "execute_result"
    }
   ],
   "source": [
    "len(result)"
   ]
  },
  {
   "cell_type": "code",
   "execution_count": 37,
   "metadata": {},
   "outputs": [
    {
     "data": {
      "text/html": [
       "<div>\n",
       "<style scoped>\n",
       "    .dataframe tbody tr th:only-of-type {\n",
       "        vertical-align: middle;\n",
       "    }\n",
       "\n",
       "    .dataframe tbody tr th {\n",
       "        vertical-align: top;\n",
       "    }\n",
       "\n",
       "    .dataframe thead th {\n",
       "        text-align: right;\n",
       "    }\n",
       "</style>\n",
       "<table border=\"1\" class=\"dataframe\">\n",
       "  <thead>\n",
       "    <tr style=\"text-align: right;\">\n",
       "      <th></th>\n",
       "      <th>MCID</th>\n",
       "      <th>Count</th>\n",
       "      <th>Name</th>\n",
       "    </tr>\n",
       "  </thead>\n",
       "  <tbody>\n",
       "    <tr>\n",
       "      <th>0</th>\n",
       "      <td>87</td>\n",
       "      <td>52224</td>\n",
       "      <td>Fashion</td>\n",
       "    </tr>\n",
       "    <tr>\n",
       "      <th>1</th>\n",
       "      <td>337</td>\n",
       "      <td>22204</td>\n",
       "      <td>Home &amp; Kitchen</td>\n",
       "    </tr>\n",
       "    <tr>\n",
       "      <th>2</th>\n",
       "      <td>89</td>\n",
       "      <td>19111</td>\n",
       "      <td>Footwear</td>\n",
       "    </tr>\n",
       "    <tr>\n",
       "      <th>3</th>\n",
       "      <td>32644</td>\n",
       "      <td>16123</td>\n",
       "      <td>Mobile &amp; Laptop Accessories</td>\n",
       "    </tr>\n",
       "    <tr>\n",
       "      <th>4</th>\n",
       "      <td>282</td>\n",
       "      <td>13714</td>\n",
       "      <td>Jewelry &amp; Watches</td>\n",
       "    </tr>\n",
       "    <tr>\n",
       "      <th>5</th>\n",
       "      <td>453</td>\n",
       "      <td>6863</td>\n",
       "      <td>Mobiles &amp; Tablets</td>\n",
       "    </tr>\n",
       "    <tr>\n",
       "      <th>6</th>\n",
       "      <td>40442</td>\n",
       "      <td>5625</td>\n",
       "      <td>Sports &amp; Health</td>\n",
       "    </tr>\n",
       "    <tr>\n",
       "      <th>7</th>\n",
       "      <td>633</td>\n",
       "      <td>5556</td>\n",
       "      <td>Toys, Baby &amp; Kids</td>\n",
       "    </tr>\n",
       "    <tr>\n",
       "      <th>8</th>\n",
       "      <td>628</td>\n",
       "      <td>4731</td>\n",
       "      <td>Automotive</td>\n",
       "    </tr>\n",
       "    <tr>\n",
       "      <th>9</th>\n",
       "      <td>480</td>\n",
       "      <td>4324</td>\n",
       "      <td>Beauty &amp; Perfumes</td>\n",
       "    </tr>\n",
       "    <tr>\n",
       "      <th>10</th>\n",
       "      <td>368</td>\n",
       "      <td>2233</td>\n",
       "      <td>Appliances</td>\n",
       "    </tr>\n",
       "    <tr>\n",
       "      <th>11</th>\n",
       "      <td>5926</td>\n",
       "      <td>2204</td>\n",
       "      <td>Bags &amp; Luggage</td>\n",
       "    </tr>\n",
       "    <tr>\n",
       "      <th>12</th>\n",
       "      <td>85</td>\n",
       "      <td>1272</td>\n",
       "      <td>Computers</td>\n",
       "    </tr>\n",
       "    <tr>\n",
       "      <th>13</th>\n",
       "      <td>460</td>\n",
       "      <td>959</td>\n",
       "      <td>TV, Audio &amp; Large Appliances</td>\n",
       "    </tr>\n",
       "    <tr>\n",
       "      <th>14</th>\n",
       "      <td>34572</td>\n",
       "      <td>751</td>\n",
       "      <td>Books &amp; Daily Needs</td>\n",
       "    </tr>\n",
       "    <tr>\n",
       "      <th>15</th>\n",
       "      <td>59031</td>\n",
       "      <td>89</td>\n",
       "      <td>Cameras</td>\n",
       "    </tr>\n",
       "    <tr>\n",
       "      <th>16</th>\n",
       "      <td>5099</td>\n",
       "      <td>29</td>\n",
       "      <td>WholeSale</td>\n",
       "    </tr>\n",
       "    <tr>\n",
       "      <th>17</th>\n",
       "      <td>66849</td>\n",
       "      <td>3</td>\n",
       "      <td>assisted_ecom</td>\n",
       "    </tr>\n",
       "  </tbody>\n",
       "</table>\n",
       "</div>"
      ],
      "text/plain": [
       "     MCID  Count                          Name\n",
       "0      87  52224                       Fashion\n",
       "1     337  22204                Home & Kitchen\n",
       "2      89  19111                      Footwear\n",
       "3   32644  16123   Mobile & Laptop Accessories\n",
       "4     282  13714             Jewelry & Watches\n",
       "5     453   6863             Mobiles & Tablets\n",
       "6   40442   5625               Sports & Health\n",
       "7     633   5556             Toys, Baby & Kids\n",
       "8     628   4731                    Automotive\n",
       "9     480   4324             Beauty & Perfumes\n",
       "10    368   2233                    Appliances\n",
       "11   5926   2204                Bags & Luggage\n",
       "12     85   1272                     Computers\n",
       "13    460    959  TV, Audio & Large Appliances\n",
       "14  34572    751           Books & Daily Needs\n",
       "15  59031     89                       Cameras\n",
       "16   5099     29                     WholeSale\n",
       "17  66849      3                 assisted_ecom"
      ]
     },
     "execution_count": 37,
     "metadata": {},
     "output_type": "execute_result"
    }
   ],
   "source": [
    "result"
   ]
  },
  {
   "cell_type": "code",
   "execution_count": 38,
   "metadata": {},
   "outputs": [
    {
     "data": {
      "text/html": [
       "<div>\n",
       "<style scoped>\n",
       "    .dataframe tbody tr th:only-of-type {\n",
       "        vertical-align: middle;\n",
       "    }\n",
       "\n",
       "    .dataframe tbody tr th {\n",
       "        vertical-align: top;\n",
       "    }\n",
       "\n",
       "    .dataframe thead th {\n",
       "        text-align: right;\n",
       "    }\n",
       "</style>\n",
       "<table border=\"1\" class=\"dataframe\">\n",
       "  <thead>\n",
       "    <tr style=\"text-align: right;\">\n",
       "      <th></th>\n",
       "      <th>MCID</th>\n",
       "      <th>Count</th>\n",
       "      <th>Name</th>\n",
       "    </tr>\n",
       "  </thead>\n",
       "  <tbody>\n",
       "    <tr>\n",
       "      <th>0</th>\n",
       "      <td>87</td>\n",
       "      <td>52224</td>\n",
       "      <td>Fashion</td>\n",
       "    </tr>\n",
       "    <tr>\n",
       "      <th>1</th>\n",
       "      <td>337</td>\n",
       "      <td>22204</td>\n",
       "      <td>Home &amp; Kitchen</td>\n",
       "    </tr>\n",
       "    <tr>\n",
       "      <th>2</th>\n",
       "      <td>89</td>\n",
       "      <td>19111</td>\n",
       "      <td>Footwear</td>\n",
       "    </tr>\n",
       "    <tr>\n",
       "      <th>3</th>\n",
       "      <td>32644</td>\n",
       "      <td>16123</td>\n",
       "      <td>Mobile &amp; Laptop Accessories</td>\n",
       "    </tr>\n",
       "    <tr>\n",
       "      <th>4</th>\n",
       "      <td>282</td>\n",
       "      <td>13714</td>\n",
       "      <td>Jewelry &amp; Watches</td>\n",
       "    </tr>\n",
       "    <tr>\n",
       "      <th>5</th>\n",
       "      <td>453</td>\n",
       "      <td>6863</td>\n",
       "      <td>Mobiles &amp; Tablets</td>\n",
       "    </tr>\n",
       "    <tr>\n",
       "      <th>6</th>\n",
       "      <td>40442</td>\n",
       "      <td>5625</td>\n",
       "      <td>Sports &amp; Health</td>\n",
       "    </tr>\n",
       "    <tr>\n",
       "      <th>7</th>\n",
       "      <td>633</td>\n",
       "      <td>5556</td>\n",
       "      <td>Toys, Baby &amp; Kids</td>\n",
       "    </tr>\n",
       "    <tr>\n",
       "      <th>8</th>\n",
       "      <td>628</td>\n",
       "      <td>4731</td>\n",
       "      <td>Automotive</td>\n",
       "    </tr>\n",
       "    <tr>\n",
       "      <th>9</th>\n",
       "      <td>480</td>\n",
       "      <td>4324</td>\n",
       "      <td>Beauty &amp; Perfumes</td>\n",
       "    </tr>\n",
       "  </tbody>\n",
       "</table>\n",
       "</div>"
      ],
      "text/plain": [
       "    MCID  Count                         Name\n",
       "0     87  52224                      Fashion\n",
       "1    337  22204               Home & Kitchen\n",
       "2     89  19111                     Footwear\n",
       "3  32644  16123  Mobile & Laptop Accessories\n",
       "4    282  13714            Jewelry & Watches\n",
       "5    453   6863            Mobiles & Tablets\n",
       "6  40442   5625              Sports & Health\n",
       "7    633   5556            Toys, Baby & Kids\n",
       "8    628   4731                   Automotive\n",
       "9    480   4324            Beauty & Perfumes"
      ]
     },
     "execution_count": 38,
     "metadata": {},
     "output_type": "execute_result"
    }
   ],
   "source": [
    "final = result.head(10)\n",
    "final"
   ]
  },
  {
   "cell_type": "code",
   "execution_count": 39,
   "metadata": {},
   "outputs": [
    {
     "data": {
      "image/png": "[encoded data removed]",
      "text/plain": [
       "<Figure size 1080x576 with 1 Axes>"
      ]
     },
     "metadata": {},
     "output_type": "display_data"
    }
   ],
   "source": [
    "f, ax = plt.subplots(figsize=(15, 8)) \n",
    "y_pos = np.arange(10)\n",
    "plt.bar(y_pos, final['Count'])\n",
    "plt.xticks(y_pos, final['Name'],fontsize=15, rotation = 90)\n",
    "plt.yticks(fontsize=15)\n",
    "plt.xlabel('MetaCategory Name',fontsize=15)\n",
    "plt.ylabel('Number of Unique UUIDs matched',fontsize=15)\n",
    "plt.title('Top 10 MetaCategories',fontsize=20)\n",
    "plt.show()"
   ]
  }
 ],
 "metadata": {
  "kernelspec": {
   "display_name": "Python 3",
   "language": "python",
   "name": "python3"
  },
  "language_info": {
   "codemirror_mode": {
    "name": "ipython",
    "version": 3
   },
   "file_extension": ".py",
   "mimetype": "text/x-python",
   "name": "python",
   "nbconvert_exporter": "python",
   "pygments_lexer": "ipython3",
   "version": "3.6.5"
  }
 },
 "nbformat": 4,
 "nbformat_minor": 2
}
